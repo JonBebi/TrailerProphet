{
 "cells": [
  {
   "cell_type": "code",
   "execution_count": 1,
   "metadata": {},
   "outputs": [
    {
     "name": "stdout",
     "output_type": "stream",
     "text": [
      "Requirement already satisfied: google-api-python-client in /Users/flatironschool/anaconda3/lib/python3.7/site-packages (1.7.11)\n",
      "Requirement already satisfied: six<2dev,>=1.6.1 in /Users/flatironschool/anaconda3/lib/python3.7/site-packages (from google-api-python-client) (1.12.0)\n",
      "Requirement already satisfied: google-auth>=1.4.1 in /Users/flatironschool/anaconda3/lib/python3.7/site-packages (from google-api-python-client) (1.6.3)\n",
      "Requirement already satisfied: httplib2<1dev,>=0.9.2 in /Users/flatironschool/anaconda3/lib/python3.7/site-packages (from google-api-python-client) (0.14.0)\n",
      "Requirement already satisfied: uritemplate<4dev,>=3.0.0 in /Users/flatironschool/anaconda3/lib/python3.7/site-packages (from google-api-python-client) (3.0.0)\n",
      "Requirement already satisfied: google-auth-httplib2>=0.0.3 in /Users/flatironschool/anaconda3/lib/python3.7/site-packages (from google-api-python-client) (0.0.3)\n",
      "Requirement already satisfied: cachetools>=2.0.0 in /Users/flatironschool/anaconda3/lib/python3.7/site-packages (from google-auth>=1.4.1->google-api-python-client) (3.1.1)\n",
      "Requirement already satisfied: rsa>=3.1.4 in /Users/flatironschool/anaconda3/lib/python3.7/site-packages (from google-auth>=1.4.1->google-api-python-client) (4.0)\n",
      "Requirement already satisfied: pyasn1-modules>=0.2.1 in /Users/flatironschool/anaconda3/lib/python3.7/site-packages (from google-auth>=1.4.1->google-api-python-client) (0.2.6)\n",
      "Requirement already satisfied: pyasn1>=0.1.3 in /Users/flatironschool/anaconda3/lib/python3.7/site-packages (from rsa>=3.1.4->google-auth>=1.4.1->google-api-python-client) (0.4.7)\n"
     ]
    }
   ],
   "source": [
    "!pip install google-api-python-client"
   ]
  },
  {
   "cell_type": "code",
   "execution_count": 2,
   "metadata": {
    "scrolled": true
   },
   "outputs": [
    {
     "name": "stdout",
     "output_type": "stream",
     "text": [
      "Requirement already satisfied: google-auth in /Users/flatironschool/anaconda3/lib/python3.7/site-packages (1.6.3)\n",
      "Requirement already satisfied: google-auth-oauthlib in /Users/flatironschool/anaconda3/lib/python3.7/site-packages (0.4.0)\n",
      "Requirement already satisfied: google-auth-httplib2 in /Users/flatironschool/anaconda3/lib/python3.7/site-packages (0.0.3)\n",
      "Requirement already satisfied: cachetools>=2.0.0 in /Users/flatironschool/anaconda3/lib/python3.7/site-packages (from google-auth) (3.1.1)\n",
      "Requirement already satisfied: six>=1.9.0 in /Users/flatironschool/anaconda3/lib/python3.7/site-packages (from google-auth) (1.12.0)\n",
      "Requirement already satisfied: pyasn1-modules>=0.2.1 in /Users/flatironschool/anaconda3/lib/python3.7/site-packages (from google-auth) (0.2.6)\n",
      "Requirement already satisfied: rsa>=3.1.4 in /Users/flatironschool/anaconda3/lib/python3.7/site-packages (from google-auth) (4.0)\n",
      "Requirement already satisfied: requests-oauthlib>=0.7.0 in /Users/flatironschool/anaconda3/lib/python3.7/site-packages (from google-auth-oauthlib) (1.2.0)\n",
      "Requirement already satisfied: httplib2>=0.9.1 in /Users/flatironschool/anaconda3/lib/python3.7/site-packages (from google-auth-httplib2) (0.14.0)\n",
      "Requirement already satisfied: pyasn1<0.5.0,>=0.4.6 in /Users/flatironschool/anaconda3/lib/python3.7/site-packages (from pyasn1-modules>=0.2.1->google-auth) (0.4.7)\n",
      "Requirement already satisfied: requests>=2.0.0 in /Users/flatironschool/anaconda3/lib/python3.7/site-packages (from requests-oauthlib>=0.7.0->google-auth-oauthlib) (2.21.0)\n",
      "Requirement already satisfied: oauthlib>=3.0.0 in /Users/flatironschool/anaconda3/lib/python3.7/site-packages (from requests-oauthlib>=0.7.0->google-auth-oauthlib) (3.1.0)\n",
      "Requirement already satisfied: idna<2.9,>=2.5 in /Users/flatironschool/anaconda3/lib/python3.7/site-packages (from requests>=2.0.0->requests-oauthlib>=0.7.0->google-auth-oauthlib) (2.8)\n",
      "Requirement already satisfied: certifi>=2017.4.17 in /Users/flatironschool/anaconda3/lib/python3.7/site-packages (from requests>=2.0.0->requests-oauthlib>=0.7.0->google-auth-oauthlib) (2019.3.9)\n",
      "Requirement already satisfied: chardet<3.1.0,>=3.0.2 in /Users/flatironschool/anaconda3/lib/python3.7/site-packages (from requests>=2.0.0->requests-oauthlib>=0.7.0->google-auth-oauthlib) (3.0.4)\n",
      "Requirement already satisfied: urllib3<1.25,>=1.21.1 in /Users/flatironschool/anaconda3/lib/python3.7/site-packages (from requests>=2.0.0->requests-oauthlib>=0.7.0->google-auth-oauthlib) (1.24.1)\n"
     ]
    }
   ],
   "source": [
    "!pip install google-auth google-auth-oauthlib google-auth-httplib2"
   ]
  },
  {
   "cell_type": "code",
   "execution_count": 3,
   "metadata": {},
   "outputs": [],
   "source": [
    "# Removed file\n",
    "CLIENT_SECRETS_FILE = 'client_secret.json'"
   ]
  },
  {
   "cell_type": "code",
   "execution_count": 4,
   "metadata": {},
   "outputs": [],
   "source": [
    "SCOPES = ['https://www.googleapis.com/auth/youtube']\n",
    "API_SERVICE_NAME = 'youtube'\n",
    "API_VERSION = 'v3'"
   ]
  },
  {
   "cell_type": "code",
   "execution_count": 5,
   "metadata": {},
   "outputs": [],
   "source": [
    "import google.oauth2.credentials\n",
    "\n",
    "from googleapiclient.discovery import build\n",
    "from googleapiclient.errors import HttpError\n",
    "from google_auth_oauthlib.flow import InstalledAppFlow\n",
    "\n",
    "def get_authenticated_service():\n",
    "    flow = InstalledAppFlow.from_client_secrets_file(CLIENT_SECRETS_FILE, SCOPES)\n",
    "    credentials = flow.run_console()\n",
    "    return build(API_SERVICE_NAME, API_VERSION, credentials = credentials)"
   ]
  },
  {
   "cell_type": "code",
   "execution_count": 6,
   "metadata": {},
   "outputs": [
    {
     "name": "stdout",
     "output_type": "stream",
     "text": [
      "Please visit this URL to authorize this application: https://accounts.google.com/o/oauth2/auth?response_type=code&client_id=50223972257-2u1829bpdl22sn1vu3hqtria83c5ht96.apps.googleusercontent.com&redirect_uri=urn%3Aietf%3Awg%3Aoauth%3A2.0%3Aoob&scope=https%3A%2F%2Fwww.googleapis.com%2Fauth%2Fyoutube&state=egwl1tCjtJxC6E1odWoPmucpfiK0xP&prompt=consent&access_type=offline&code_challenge=bnul6J49ytX-RAnLOZ0UAd7Gt3yp8_83Eaj-NX_Nkcw&code_challenge_method=S256\n",
      "Enter the authorization code: 4/rgGZDsrc5amy7LSDb_HFNxPS-op5h7bvPDpKRdiBZk6ma1FpaaBndXM\n"
     ]
    }
   ],
   "source": [
    "import os\n",
    "\n",
    "if __name__ == '__main__':\n",
    "    # When running locally, disable OAuthlib's HTTPs verification. When\n",
    "    # running in production *do not* leave this option enabled.\n",
    "    os.environ['OAUTHLIB_INSECURE_TRANSPORT'] = '1'\n",
    "    service = get_authenticated_service()"
   ]
  },
  {
   "cell_type": "code",
   "execution_count": 7,
   "metadata": {},
   "outputs": [],
   "source": [
    "import pickle\n",
    "import google.oauth2.credentials\n",
    "\n",
    "from googleapiclient.discovery import build\n",
    "from googleapiclient.errors import HttpError\n",
    "from google_auth_oauthlib.flow import InstalledAppFlow\n",
    "from google.auth.transport.requests import Request\n",
    "\n",
    "def get_authenticated_service():\n",
    "    credentials = None\n",
    "    if os.path.exists('token.pickle'):\n",
    "        with open('token.pickle', 'rb') as token:\n",
    "            credentials = pickle.load(token)\n",
    "    #  Check if the credentials are invalid or do not exist\n",
    "    if not credentials or not credentials.valid:\n",
    "        # Check if the credentials have expired\n",
    "        if credentials and credentials.expired and credentials.refresh_token:\n",
    "            credentials.refresh(Request())\n",
    "        else:\n",
    "            flow = InstalledAppFlow.from_client_secrets_file(\n",
    "                CLIENT_SECRETS_FILE, SCOPES)\n",
    "            credentials = flow.run_console()\n",
    "\n",
    "        # Save the credentials for the next run\n",
    "        with open('token.pickle', 'wb') as token:\n",
    "            pickle.dump(credentials, token)\n",
    "\n",
    "    return build(API_SERVICE_NAME, API_VERSION, credentials = credentials)"
   ]
  },
  {
   "cell_type": "code",
   "execution_count": 8,
   "metadata": {
    "scrolled": true
   },
   "outputs": [],
   "source": [
    "def search_videos_by_keyword(service, **kwargs):\n",
    "    results = service.search().list(**kwargs).execute()\n",
    "    for item in results['items']:\n",
    "        print('%s - %s' % (item['snippet']['title'], item['id']['videoId']))"
   ]
  },
  {
   "cell_type": "code",
   "execution_count": null,
   "metadata": {},
   "outputs": [],
   "source": [
    "# Different result from YT, not same video\n",
    "keyword = input('Enter a keyword: ')\n",
    "search_videos_by_keyword(service, q=keyword, part='id, snippet', eventType='completed', type='video')"
   ]
  }
 ],
 "metadata": {
  "kernelspec": {
   "display_name": "Python 3",
   "language": "python",
   "name": "python3"
  },
  "language_info": {
   "codemirror_mode": {
    "name": "ipython",
    "version": 3
   },
   "file_extension": ".py",
   "mimetype": "text/x-python",
   "name": "python",
   "nbconvert_exporter": "python",
   "pygments_lexer": "ipython3",
   "version": "3.7.3"
  }
 },
 "nbformat": 4,
 "nbformat_minor": 2
}
